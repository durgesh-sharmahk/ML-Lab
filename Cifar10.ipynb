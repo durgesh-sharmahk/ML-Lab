{
  "nbformat": 4,
  "nbformat_minor": 0,
  "metadata": {
    "accelerator": "GPU",
    "colab": {
      "name": "Copy of Copy for CS2 III year cifar10.ipynb",
      "provenance": [],
      "collapsed_sections": []
    },
    "kernelspec": {
      "display_name": "Python 3",
      "name": "python3"
    }
  },
  "cells": [
    {
      "cell_type": "code",
      "metadata": {
        "id": "wok7uJxRRGXn"
      },
      "source": [
        "import warnings\n",
        "warnings.filterwarnings('ignore')\n",
        "\n",
        "import numpy as np\n",
        "import matplotlib.pyplot as plt\n",
        "import keras\n",
        "from keras.datasets import mnist\n",
        "from keras.models import Sequential,model_from_json\n",
        "from keras.layers import Dense\n",
        "from keras.optimizers import RMSprop\n",
        "import pylab as plt"
      ],
      "execution_count": 11,
      "outputs": []
    },
    {
      "cell_type": "code",
      "metadata": {
        "colab": {
          "base_uri": "https://localhost:8080/"
        },
        "id": "rLrjw9n4Qwhc",
        "outputId": "f2ce6348-eb48-4b73-dafc-4abc5ceca9ee"
      },
      "source": [
        "from keras.datasets import cifar10\n",
        "batch_size = 128\n",
        "num_classes = 10\n",
        "epochs = 2\n",
        "\n",
        "# the data, split between train and test sets\n",
        "(x_train, y_train), (x_test, y_test) = cifar10.load_data()\n",
        "print('x_train shape:', x_train.shape)\n",
        "print(x_train.shape[0], 'train samples')\n",
        "print(x_test.shape[0], 'test samples')\n",
        "\n",
        "x_train = x_train.reshape(50000, 3072)\n",
        "x_test = x_test.reshape(10000, 3072)\n",
        "x_train = x_train.astype('float32')\n",
        "x_test = x_test.astype('float32')\n",
        "\n",
        "# Normalize to 0 to 1 range\n",
        "x_train /= 255\n",
        "x_test /= 255\n",
        "\n",
        "print(x_train.shape[0], 'train samples')\n",
        "print(x_test.shape[0], 'test samples')\n",
        "# convert class vectors to binary class matrices\n",
        "y_train = keras.utils.to_categorical(y_train, num_classes)\n",
        "y_test = keras.utils.to_categorical(y_test, num_classes)\n",
        "\n"
      ],
      "execution_count": 12,
      "outputs": [
        {
          "output_type": "stream",
          "text": [
            "x_train shape: (50000, 32, 32, 3)\n",
            "50000 train samples\n",
            "10000 test samples\n",
            "50000 train samples\n",
            "10000 test samples\n"
          ],
          "name": "stdout"
        }
      ]
    },
    {
      "cell_type": "code",
      "metadata": {
        "colab": {
          "base_uri": "https://localhost:8080/",
          "height": 283
        },
        "id": "4GSz1VZbSuJR",
        "outputId": "d62121a3-13e2-4fc0-ea95-96a16816098a"
      },
      "source": [
        "print(\"Label:\",y_test[12:13])\n",
        "plt.imshow(x_test[12:13].reshape(32,32,3), cmap='gray')\n",
        "plt.show()"
      ],
      "execution_count": 13,
      "outputs": [
        {
          "output_type": "stream",
          "text": [
            "Label: [[0. 0. 0. 0. 0. 1. 0. 0. 0. 0.]]\n"
          ],
          "name": "stdout"
        },
        {
          "output_type": "display_data",
          "data": {
            "image/png": "[encoded data removed]",
            "text/plain": [
              "<Figure size 432x288 with 1 Axes>"
            ]
          },
          "metadata": {
            "tags": [],
            "needs_background": "light"
          }
        }
      ]
    },
    {
      "cell_type": "code",
      "metadata": {
        "colab": {
          "base_uri": "https://localhost:8080/"
        },
        "id": "djmtkLpkTXil",
        "outputId": "b0711072-623d-4888-f0ce-c027a8fe889c"
      },
      "source": [
        "from keras.layers import Dropout\n",
        "from keras.optimizers import RMSprop\n",
        "\n",
        "model = Sequential()\n",
        "\n",
        "model.add(Dense(2048,activation='relu', input_shape=(3072,)))\n",
        "\n",
        "model.add(Dense(1024, activation='relu'))\n",
        "\n",
        "model.add(Dense(512, activation='relu'))\n",
        "model.add(Dense(128, activation='relu'))\n",
        "model.add(Dense(64, activation='relu'))\n",
        "model.add(Dense(32, activation='relu'))\n",
        "model.add(Dense(num_classes, activation='softmax'))\n",
        "\n",
        "model.summary()\n",
        "#multiclassthereforecategoricalcrossentropy\n",
        "model.compile(loss='categorical_crossentropy',\n",
        "              optimizer=RMSprop(),\n",
        "              metrics=['accuracy'])\n",
        "\n",
        "history = model.fit(x_train, y_train,\n",
        "                    batch_size=batch_size,\n",
        "                    epochs=5,\n",
        "                    verbose=1,\n",
        "                    validation_data=(x_test, y_test))\n",
        "score = model.evaluate(x_test, y_test, verbose=0)\n",
        "print('Test loss:', score[0])\n",
        "print('Test accuracy:', score[1])"
      ],
      "execution_count": 14,
      "outputs": [
        {
          "output_type": "stream",
          "text": [
            "Model: \"sequential_5\"\n",
            "_________________________________________________________________\n",
            "Layer (type)                 Output Shape              Param #   \n",
            "=================================================================\n",
            "dense_35 (Dense)             (None, 2048)              6293504   \n",
            "_________________________________________________________________\n",
            "dense_36 (Dense)             (None, 1024)              2098176   \n",
            "_________________________________________________________________\n",
            "dense_37 (Dense)             (None, 512)               524800    \n",
            "_________________________________________________________________\n",
            "dense_38 (Dense)             (None, 128)               65664     \n",
            "_________________________________________________________________\n",
            "dense_39 (Dense)             (None, 64)                8256      \n",
            "_________________________________________________________________\n",
            "dense_40 (Dense)             (None, 32)                2080      \n",
            "_________________________________________________________________\n",
            "dense_41 (Dense)             (None, 10)                330       \n",
            "=================================================================\n",
            "Total params: 8,992,810\n",
            "Trainable params: 8,992,810\n",
            "Non-trainable params: 0\n",
            "_________________________________________________________________\n",
            "Epoch 1/5\n",
            "391/391 [==============================] - 5s 11ms/step - loss: 2.4700 - accuracy: 0.1537 - val_loss: 1.9114 - val_accuracy: 0.3018\n",
            "Epoch 2/5\n",
            "391/391 [==============================] - 4s 11ms/step - loss: 1.9107 - accuracy: 0.3010 - val_loss: 1.8822 - val_accuracy: 0.2996\n",
            "Epoch 3/5\n",
            "391/391 [==============================] - 4s 11ms/step - loss: 1.8033 - accuracy: 0.3514 - val_loss: 1.7773 - val_accuracy: 0.3643\n",
            "Epoch 4/5\n",
            "391/391 [==============================] - 4s 11ms/step - loss: 1.7272 - accuracy: 0.3777 - val_loss: 1.6599 - val_accuracy: 0.4063\n",
            "Epoch 5/5\n",
            "391/391 [==============================] - 4s 11ms/step - loss: 1.6571 - accuracy: 0.4068 - val_loss: 1.6339 - val_accuracy: 0.4244\n",
            "Test loss: 1.6339462995529175\n",
            "Test accuracy: 0.4244000017642975\n"
          ],
          "name": "stdout"
        }
      ]
    },
    {
      "cell_type": "code",
      "metadata": {
        "colab": {
          "base_uri": "https://localhost:8080/"
        },
        "id": "4ok_zATxXIkO",
        "outputId": "f240b416-c554-4e60-f08d-69f19d78c011"
      },
      "source": [
        "from keras.layers import Dropout\n",
        "from keras.optimizers import Adam\n",
        "\n",
        "model = Sequential()\n",
        "\n",
        "model.add(Dense(4096,activation='tanh', input_shape=(3072,)))\n",
        "\n",
        "model.add(Dense(1024, activation='relu'))\n",
        "\n",
        "model.add(Dense(512, activation='relu'))\n",
        "model.add(Dense(128, activation='relu'))\n",
        "model.add(Dense(64, activation='relu'))\n",
        "model.add(Dense(32, activation='relu'))\n",
        "model.add(Dense(num_classes, activation='softmax'))\n",
        "\n",
        "model.summary()\n",
        "model.compile(loss='categorical_crossentropy',\n",
        "              optimizer=Adam(),\n",
        "              metrics=['accuracy'])\n",
        "\n",
        "history = model.fit(x_train, y_train,\n",
        "                    batch_size=batch_size,\n",
        "                    epochs=5,\n",
        "                    verbose=1,\n",
        "                    validation_data=(x_test, y_test))\n",
        "score = model.evaluate(x_test, y_test, verbose=0)\n",
        "print('Test loss:', score[0])\n",
        "print('Test accuracy:', score[1])"
      ],
      "execution_count": 15,
      "outputs": [
        {
          "output_type": "stream",
          "text": [
            "Model: \"sequential_6\"\n",
            "_________________________________________________________________\n",
            "Layer (type)                 Output Shape              Param #   \n",
            "=================================================================\n",
            "dense_42 (Dense)             (None, 4096)              12587008  \n",
            "_________________________________________________________________\n",
            "dense_43 (Dense)             (None, 1024)              4195328   \n",
            "_________________________________________________________________\n",
            "dense_44 (Dense)             (None, 512)               524800    \n",
            "_________________________________________________________________\n",
            "dense_45 (Dense)             (None, 128)               65664     \n",
            "_________________________________________________________________\n",
            "dense_46 (Dense)             (None, 64)                8256      \n",
            "_________________________________________________________________\n",
            "dense_47 (Dense)             (None, 32)                2080      \n",
            "_________________________________________________________________\n",
            "dense_48 (Dense)             (None, 10)                330       \n",
            "=================================================================\n",
            "Total params: 17,383,466\n",
            "Trainable params: 17,383,466\n",
            "Non-trainable params: 0\n",
            "_________________________________________________________________\n",
            "Epoch 1/5\n",
            "391/391 [==============================] - 5s 11ms/step - loss: 2.2532 - accuracy: 0.1769 - val_loss: 1.8573 - val_accuracy: 0.3247\n",
            "Epoch 2/5\n",
            "391/391 [==============================] - 4s 11ms/step - loss: 1.8885 - accuracy: 0.3082 - val_loss: 1.8138 - val_accuracy: 0.3343\n",
            "Epoch 3/5\n",
            "391/391 [==============================] - 4s 11ms/step - loss: 1.8401 - accuracy: 0.3279 - val_loss: 1.7776 - val_accuracy: 0.3502\n",
            "Epoch 4/5\n",
            "391/391 [==============================] - 4s 11ms/step - loss: 1.8117 - accuracy: 0.3351 - val_loss: 1.7846 - val_accuracy: 0.3493\n",
            "Epoch 5/5\n",
            "391/391 [==============================] - 4s 11ms/step - loss: 1.7822 - accuracy: 0.3478 - val_loss: 1.7939 - val_accuracy: 0.3403\n",
            "Test loss: 1.7939077615737915\n",
            "Test accuracy: 0.3402999937534332\n"
          ],
          "name": "stdout"
        }
      ]
    },
    {
      "cell_type": "code",
      "metadata": {
        "colab": {
          "base_uri": "https://localhost:8080/"
        },
        "id": "_YTwFbKrXse_",
        "outputId": "37ab139c-e748-45e9-fea6-e44f03bc1f1f"
      },
      "source": [
        "from keras.layers import Dropout\n",
        "from keras.optimizers import Adam\n",
        "\n",
        "model = Sequential()\n",
        "\n",
        "model.add(Dense(4096,activation='relu', input_shape=(3072,)))\n",
        "\n",
        "model.add(Dense(1024, activation='relu'))\n",
        "\n",
        "model.add(Dense(512, activation='relu'))\n",
        "model.add(Dense(128, activation='relu'))\n",
        "model.add(Dense(64, activation='relu'))\n",
        "model.add(Dense(32, activation='relu'))\n",
        "model.add(Dense(num_classes, activation='softmax'))\n",
        "\n",
        "model.summary()\n",
        "model.compile(loss='categorical_crossentropy',\n",
        "              optimizer=Adam(),\n",
        "              metrics=['accuracy'])\n",
        "\n",
        "history = model.fit(x_train, y_train,\n",
        "                    batch_size=batch_size,\n",
        "                    epochs=20,\n",
        "                    verbose=1,\n",
        "                    validation_data=(x_test, y_test))\n",
        "score = model.evaluate(x_test, y_test, verbose=0)\n",
        "print('Test loss:', score[0])\n",
        "print('Test accuracy:', score[1])"
      ],
      "execution_count": 16,
      "outputs": [
        {
          "output_type": "stream",
          "text": [
            "Model: \"sequential_7\"\n",
            "_________________________________________________________________\n",
            "Layer (type)                 Output Shape              Param #   \n",
            "=================================================================\n",
            "dense_49 (Dense)             (None, 4096)              12587008  \n",
            "_________________________________________________________________\n",
            "dense_50 (Dense)             (None, 1024)              4195328   \n",
            "_________________________________________________________________\n",
            "dense_51 (Dense)             (None, 512)               524800    \n",
            "_________________________________________________________________\n",
            "dense_52 (Dense)             (None, 128)               65664     \n",
            "_________________________________________________________________\n",
            "dense_53 (Dense)             (None, 64)                8256      \n",
            "_________________________________________________________________\n",
            "dense_54 (Dense)             (None, 32)                2080      \n",
            "_________________________________________________________________\n",
            "dense_55 (Dense)             (None, 10)                330       \n",
            "=================================================================\n",
            "Total params: 17,383,466\n",
            "Trainable params: 17,383,466\n",
            "Non-trainable params: 0\n",
            "_________________________________________________________________\n",
            "Epoch 1/20\n",
            "391/391 [==============================] - 5s 11ms/step - loss: 2.3260 - accuracy: 0.1514 - val_loss: 1.8946 - val_accuracy: 0.3180\n",
            "Epoch 2/20\n",
            "391/391 [==============================] - 4s 11ms/step - loss: 1.8480 - accuracy: 0.3207 - val_loss: 1.7568 - val_accuracy: 0.3578\n",
            "Epoch 3/20\n",
            "391/391 [==============================] - 4s 11ms/step - loss: 1.7278 - accuracy: 0.3772 - val_loss: 1.7189 - val_accuracy: 0.3695\n",
            "Epoch 4/20\n",
            "391/391 [==============================] - 4s 11ms/step - loss: 1.6361 - accuracy: 0.4108 - val_loss: 1.5681 - val_accuracy: 0.4423\n",
            "Epoch 5/20\n",
            "391/391 [==============================] - 4s 11ms/step - loss: 1.5594 - accuracy: 0.4414 - val_loss: 1.5835 - val_accuracy: 0.4397\n",
            "Epoch 6/20\n",
            "391/391 [==============================] - 4s 11ms/step - loss: 1.5071 - accuracy: 0.4587 - val_loss: 1.5064 - val_accuracy: 0.4620\n",
            "Epoch 7/20\n",
            "391/391 [==============================] - 4s 11ms/step - loss: 1.4592 - accuracy: 0.4772 - val_loss: 1.4802 - val_accuracy: 0.4713\n",
            "Epoch 8/20\n",
            "391/391 [==============================] - 4s 11ms/step - loss: 1.4169 - accuracy: 0.4919 - val_loss: 1.4560 - val_accuracy: 0.4808\n",
            "Epoch 9/20\n",
            "391/391 [==============================] - 4s 11ms/step - loss: 1.3821 - accuracy: 0.5059 - val_loss: 1.4332 - val_accuracy: 0.4911\n",
            "Epoch 10/20\n",
            "391/391 [==============================] - 4s 11ms/step - loss: 1.3599 - accuracy: 0.5125 - val_loss: 1.4279 - val_accuracy: 0.4881\n",
            "Epoch 11/20\n",
            "391/391 [==============================] - 4s 11ms/step - loss: 1.3217 - accuracy: 0.5249 - val_loss: 1.4354 - val_accuracy: 0.4868\n",
            "Epoch 12/20\n",
            "391/391 [==============================] - 4s 11ms/step - loss: 1.2999 - accuracy: 0.5354 - val_loss: 1.4193 - val_accuracy: 0.5020\n",
            "Epoch 13/20\n",
            "391/391 [==============================] - 4s 11ms/step - loss: 1.2680 - accuracy: 0.5464 - val_loss: 1.4005 - val_accuracy: 0.5063\n",
            "Epoch 14/20\n",
            "391/391 [==============================] - 4s 11ms/step - loss: 1.2288 - accuracy: 0.5593 - val_loss: 1.4163 - val_accuracy: 0.5035\n",
            "Epoch 15/20\n",
            "391/391 [==============================] - 4s 11ms/step - loss: 1.1931 - accuracy: 0.5740 - val_loss: 1.3995 - val_accuracy: 0.5123\n",
            "Epoch 16/20\n",
            "391/391 [==============================] - 4s 11ms/step - loss: 1.1655 - accuracy: 0.5841 - val_loss: 1.4243 - val_accuracy: 0.5145\n",
            "Epoch 17/20\n",
            "391/391 [==============================] - 4s 11ms/step - loss: 1.1255 - accuracy: 0.6001 - val_loss: 1.3956 - val_accuracy: 0.5099\n",
            "Epoch 18/20\n",
            "391/391 [==============================] - 4s 11ms/step - loss: 1.0815 - accuracy: 0.6123 - val_loss: 1.4274 - val_accuracy: 0.5095\n",
            "Epoch 19/20\n",
            "391/391 [==============================] - 4s 11ms/step - loss: 1.0534 - accuracy: 0.6256 - val_loss: 1.4536 - val_accuracy: 0.5121\n",
            "Epoch 20/20\n",
            "391/391 [==============================] - 4s 11ms/step - loss: 1.0172 - accuracy: 0.6349 - val_loss: 1.4456 - val_accuracy: 0.5124\n",
            "Test loss: 1.445557951927185\n",
            "Test accuracy: 0.5123999714851379\n"
          ],
          "name": "stdout"
        }
      ]
    },
    {
      "cell_type": "code",
      "metadata": {
        "colab": {
          "base_uri": "https://localhost:8080/"
        },
        "id": "ETTxYi1VYTyU",
        "outputId": "bb0ac4dd-13f4-48cf-dd88-db634b4abb96"
      },
      "source": [
        "from keras.layers import Dropout\n",
        "from keras.optimizers import Adam\n",
        "\n",
        "model = Sequential()\n",
        "\n",
        "model.add(Dense(1024,activation='relu', input_shape=(3072,)))\n",
        "\n",
        "model.add(Dense(1024, activation='relu'))\n",
        "\n",
        "model.add(Dense(512, activation='relu'))\n",
        "model.add(Dense(128, activation='relu'))\n",
        "model.add(Dense(64, activation='relu'))\n",
        "model.add(Dense(32, activation='relu'))\n",
        "model.add(Dense(num_classes, activation='softmax'))\n",
        "\n",
        "model.summary()\n",
        "model.compile(loss='categorical_crossentropy',\n",
        "              optimizer=Adam(),\n",
        "              metrics=['accuracy'])\n",
        "\n",
        "history = model.fit(x_train, y_train,\n",
        "                    batch_size=batch_size,\n",
        "                    epochs=15,\n",
        "                    verbose=1,\n",
        "                    validation_data=(x_test, y_test))\n",
        "score = model.evaluate(x_test, y_test, verbose=0)\n",
        "print('Test loss:', score[0])\n",
        "print('Test accuracy:', score[1])"
      ],
      "execution_count": 17,
      "outputs": [
        {
          "output_type": "stream",
          "text": [
            "Model: \"sequential_8\"\n",
            "_________________________________________________________________\n",
            "Layer (type)                 Output Shape              Param #   \n",
            "=================================================================\n",
            "dense_56 (Dense)             (None, 1024)              3146752   \n",
            "_________________________________________________________________\n",
            "dense_57 (Dense)             (None, 1024)              1049600   \n",
            "_________________________________________________________________\n",
            "dense_58 (Dense)             (None, 512)               524800    \n",
            "_________________________________________________________________\n",
            "dense_59 (Dense)             (None, 128)               65664     \n",
            "_________________________________________________________________\n",
            "dense_60 (Dense)             (None, 64)                8256      \n",
            "_________________________________________________________________\n",
            "dense_61 (Dense)             (None, 32)                2080      \n",
            "_________________________________________________________________\n",
            "dense_62 (Dense)             (None, 10)                330       \n",
            "=================================================================\n",
            "Total params: 4,797,482\n",
            "Trainable params: 4,797,482\n",
            "Non-trainable params: 0\n",
            "_________________________________________________________________\n",
            "Epoch 1/15\n",
            "391/391 [==============================] - 3s 6ms/step - loss: 2.1372 - accuracy: 0.2029 - val_loss: 1.8729 - val_accuracy: 0.3169\n",
            "Epoch 2/15\n",
            "391/391 [==============================] - 2s 6ms/step - loss: 1.7727 - accuracy: 0.3563 - val_loss: 1.6849 - val_accuracy: 0.3944\n",
            "Epoch 3/15\n",
            "391/391 [==============================] - 2s 6ms/step - loss: 1.6661 - accuracy: 0.3990 - val_loss: 1.6496 - val_accuracy: 0.4071\n",
            "Epoch 4/15\n",
            "391/391 [==============================] - 2s 6ms/step - loss: 1.5859 - accuracy: 0.4310 - val_loss: 1.5275 - val_accuracy: 0.4531\n",
            "Epoch 5/15\n",
            "391/391 [==============================] - 2s 6ms/step - loss: 1.5217 - accuracy: 0.4538 - val_loss: 1.5088 - val_accuracy: 0.4661\n",
            "Epoch 6/15\n",
            "391/391 [==============================] - 2s 6ms/step - loss: 1.4719 - accuracy: 0.4697 - val_loss: 1.4884 - val_accuracy: 0.4681\n",
            "Epoch 7/15\n",
            "391/391 [==============================] - 2s 5ms/step - loss: 1.4447 - accuracy: 0.4804 - val_loss: 1.4664 - val_accuracy: 0.4797\n",
            "Epoch 8/15\n",
            "391/391 [==============================] - 2s 5ms/step - loss: 1.3864 - accuracy: 0.5014 - val_loss: 1.4337 - val_accuracy: 0.4916\n",
            "Epoch 9/15\n",
            "391/391 [==============================] - 2s 6ms/step - loss: 1.3500 - accuracy: 0.5180 - val_loss: 1.4539 - val_accuracy: 0.4800\n",
            "Epoch 10/15\n",
            "391/391 [==============================] - 2s 5ms/step - loss: 1.3302 - accuracy: 0.5214 - val_loss: 1.4044 - val_accuracy: 0.5037\n",
            "Epoch 11/15\n",
            "391/391 [==============================] - 2s 5ms/step - loss: 1.2766 - accuracy: 0.5393 - val_loss: 1.4359 - val_accuracy: 0.4933\n",
            "Epoch 12/15\n",
            "391/391 [==============================] - 2s 6ms/step - loss: 1.2370 - accuracy: 0.5563 - val_loss: 1.4170 - val_accuracy: 0.5038\n",
            "Epoch 13/15\n",
            "391/391 [==============================] - 2s 5ms/step - loss: 1.2081 - accuracy: 0.5621 - val_loss: 1.3799 - val_accuracy: 0.5170\n",
            "Epoch 14/15\n",
            "391/391 [==============================] - 2s 6ms/step - loss: 1.1659 - accuracy: 0.5833 - val_loss: 1.3827 - val_accuracy: 0.5148\n",
            "Epoch 15/15\n",
            "391/391 [==============================] - 2s 5ms/step - loss: 1.1323 - accuracy: 0.5949 - val_loss: 1.4471 - val_accuracy: 0.5014\n",
            "Test loss: 1.4471384286880493\n",
            "Test accuracy: 0.5013999938964844\n"
          ],
          "name": "stdout"
        }
      ]
    },
    {
      "cell_type": "code",
      "metadata": {
        "id": "5XHfHM1T4rMZ"
      },
      "source": [
        "#summarizehistory\n"
      ],
      "execution_count": null,
      "outputs": []
    },
    {
      "cell_type": "code",
      "metadata": {
        "colab": {
          "base_uri": "https://localhost:8080/",
          "height": 590
        },
        "id": "aCuYVKL-5soU",
        "outputId": "fe3443b4-fe30-439c-ceac-3603dec41ecb"
      },
      "source": [
        "#history = model.fit(x_train, y_train, validation_split=0.33, epochs=150, batch_size=10, verbose=0)\n",
        "# list all data in history\n",
        "print(history.history.keys())\n",
        "# summarize history for accuracy\n",
        "plt.plot(history.history['accuracy'])\n",
        "plt.plot(history.history['val_accuracy'])\n",
        "plt.title('model accuracy')\n",
        "plt.ylabel('accuracy')\n",
        "plt.xlabel('epoch')\n",
        "plt.legend(['train', 'test'], loc='upper left')\n",
        "plt.show()\n",
        "# summarize history for loss\n",
        "plt.plot(history.history['loss'])\n",
        "plt.plot(history.history['val_loss'])\n",
        "plt.title('model loss')\n",
        "plt.ylabel('loss')\n",
        "plt.xlabel('epoch')\n",
        "plt.legend(['train', 'test'], loc='upper left')\n",
        "plt.show()"
      ],
      "execution_count": 20,
      "outputs": [
        {
          "output_type": "stream",
          "text": [
            "dict_keys(['loss', 'accuracy', 'val_loss', 'val_accuracy'])\n"
          ],
          "name": "stdout"
        },
        {
          "output_type": "display_data",
          "data": {
            "image/png": "[encoded data removed]",
            "text/plain": [
              "<Figure size 432x288 with 1 Axes>"
            ]
          },
          "metadata": {
            "tags": [],
            "needs_background": "light"
          }
        },
        {
          "output_type": "display_data",
          "data": {
            "image/png": "[encoded data removed]",
            "text/plain": [
              "<Figure size 432x288 with 1 Axes>"
            ]
          },
          "metadata": {
            "tags": [],
            "needs_background": "light"
          }
        }
      ]
    },
    {
      "cell_type": "code",
      "metadata": {
        "id": "5ThlAa2G40aa"
      },
      "source": [
        "#nexttwocellforcifar100"
      ],
      "execution_count": null,
      "outputs": []
    },
    {
      "cell_type": "code",
      "metadata": {
        "id": "N5FWnvub4qG4",
        "colab": {
          "base_uri": "https://localhost:8080/"
        },
        "outputId": "1afec04b-1929-4c2a-c291-d94fbccff25f"
      },
      "source": [
        "from keras.datasets import cifar10\n",
        "batch_size = 128\n",
        "num_classes = 10\n",
        "epochs = 2\n",
        "\n",
        "# the data, split between train and test sets\n",
        "(x_train, y_train), (x_test, y_test) = cifar10.load_data()\n",
        "print('x_train shape:', x_train.shape)\n",
        "print(x_train.shape[0], 'train samples')\n",
        "print(x_test.shape[0], 'test samples')\n",
        "\n",
        "x_train = x_train.reshape(50000, 3072)\n",
        "x_test = x_test.reshape(10000, 3072)\n",
        "x_train = x_train.astype('float32')\n",
        "x_test = x_test.astype('float32')\n",
        "\n",
        "# Normalize to 0 to 1 range\n",
        "x_train /= 255\n",
        "x_test /= 255\n",
        "\n",
        "print(x_train.shape[0], 'train samples')\n",
        "print(x_test.shape[0], 'test samples')\n",
        "# convert class vectors to binary class matrices\n",
        "y_train = keras.utils.to_categorical(y_train, num_classes)\n",
        "y_test = keras.utils.to_categorical(y_test, num_classes)"
      ],
      "execution_count": 22,
      "outputs": [
        {
          "output_type": "stream",
          "text": [
            "x_train shape: (50000, 32, 32, 3)\n",
            "50000 train samples\n",
            "10000 test samples\n",
            "50000 train samples\n",
            "10000 test samples\n"
          ],
          "name": "stdout"
        }
      ]
    },
    {
      "cell_type": "code",
      "metadata": {
        "id": "PrOjh3lG4-56",
        "colab": {
          "base_uri": "https://localhost:8080/"
        },
        "outputId": "19f1431b-a184-420e-aa99-dd5dafc5a58c"
      },
      "source": [
        "from keras.layers import Dropout\n",
        "from keras.optimizers import Adam\n",
        "\n",
        "model = Sequential()\n",
        "\n",
        "model.add(Dense(4096,activation='relu', input_shape=(3072,)))\n",
        "\n",
        "model.add(Dense(1024, activation='relu'))\n",
        "\n",
        "model.add(Dense(512, activation='relu'))\n",
        "model.add(Dense(128, activation='relu'))\n",
        "model.add(Dense(64, activation='relu'))\n",
        "model.add(Dense(32, activation='relu'))\n",
        "model.add(Dense(num_classes, activation='softmax'))\n",
        "\n",
        "model.summary()\n",
        "model.compile(loss='categorical_crossentropy',\n",
        "              optimizer=Adam(),\n",
        "              metrics=['accuracy'])\n",
        "\n",
        "history = model.fit(x_train, y_train,\n",
        "                    batch_size=batch_size,\n",
        "                    epochs=10,\n",
        "                    verbose=1,\n",
        "                    validation_data=(x_test, y_test))\n",
        "score = model.evaluate(x_test, y_test, verbose=0)\n",
        "print('Test loss:', score[0])\n",
        "print('Test accuracy:', score[1])"
      ],
      "execution_count": 23,
      "outputs": [
        {
          "output_type": "stream",
          "text": [
            "Model: \"sequential_9\"\n",
            "_________________________________________________________________\n",
            "Layer (type)                 Output Shape              Param #   \n",
            "=================================================================\n",
            "dense_63 (Dense)             (None, 4096)              12587008  \n",
            "_________________________________________________________________\n",
            "dense_64 (Dense)             (None, 1024)              4195328   \n",
            "_________________________________________________________________\n",
            "dense_65 (Dense)             (None, 512)               524800    \n",
            "_________________________________________________________________\n",
            "dense_66 (Dense)             (None, 128)               65664     \n",
            "_________________________________________________________________\n",
            "dense_67 (Dense)             (None, 64)                8256      \n",
            "_________________________________________________________________\n",
            "dense_68 (Dense)             (None, 32)                2080      \n",
            "_________________________________________________________________\n",
            "dense_69 (Dense)             (None, 10)                330       \n",
            "=================================================================\n",
            "Total params: 17,383,466\n",
            "Trainable params: 17,383,466\n",
            "Non-trainable params: 0\n",
            "_________________________________________________________________\n",
            "Epoch 1/10\n",
            "391/391 [==============================] - 5s 12ms/step - loss: 2.2392 - accuracy: 0.1759 - val_loss: 1.8297 - val_accuracy: 0.3364\n",
            "Epoch 2/10\n",
            "391/391 [==============================] - 4s 11ms/step - loss: 1.7742 - accuracy: 0.3538 - val_loss: 1.6811 - val_accuracy: 0.3952\n",
            "Epoch 3/10\n",
            "391/391 [==============================] - 4s 11ms/step - loss: 1.6603 - accuracy: 0.3999 - val_loss: 1.6074 - val_accuracy: 0.4238\n",
            "Epoch 4/10\n",
            "391/391 [==============================] - 4s 11ms/step - loss: 1.5995 - accuracy: 0.4251 - val_loss: 1.5574 - val_accuracy: 0.4482\n",
            "Epoch 5/10\n",
            "391/391 [==============================] - 4s 11ms/step - loss: 1.5516 - accuracy: 0.4421 - val_loss: 1.5755 - val_accuracy: 0.4421\n",
            "Epoch 6/10\n",
            "391/391 [==============================] - 4s 11ms/step - loss: 1.4953 - accuracy: 0.4643 - val_loss: 1.4773 - val_accuracy: 0.4751\n",
            "Epoch 7/10\n",
            "391/391 [==============================] - 4s 11ms/step - loss: 1.4534 - accuracy: 0.4805 - val_loss: 1.4819 - val_accuracy: 0.4737\n",
            "Epoch 8/10\n",
            "391/391 [==============================] - 4s 11ms/step - loss: 1.4057 - accuracy: 0.4976 - val_loss: 1.4581 - val_accuracy: 0.4837\n",
            "Epoch 9/10\n",
            "391/391 [==============================] - 4s 11ms/step - loss: 1.3818 - accuracy: 0.5066 - val_loss: 1.4646 - val_accuracy: 0.4760\n",
            "Epoch 10/10\n",
            "391/391 [==============================] - 4s 11ms/step - loss: 1.3506 - accuracy: 0.5166 - val_loss: 1.4431 - val_accuracy: 0.4869\n",
            "Test loss: 1.4431140422821045\n",
            "Test accuracy: 0.4869000017642975\n"
          ],
          "name": "stdout"
        }
      ]
    }
  ]
}